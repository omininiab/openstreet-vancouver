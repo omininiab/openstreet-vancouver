{
 "cells": [
  {
   "cell_type": "code",
   "execution_count": 2,
   "metadata": {
    "collapsed": true
   },
   "outputs": [],
   "source": [
    "import xml.etree.cElementTree as ET\n",
    "from collections import defaultdict\n",
    "import pprint as pp\n",
    "import re"
   ]
  },
  {
   "cell_type": "code",
   "execution_count": 3,
   "metadata": {
    "collapsed": true
   },
   "outputs": [],
   "source": [
    "lower = re.compile(r'^([a-z]|_)*$')\n",
    "lower_colon = re.compile(r'^([a-z]|_)*:([a-z]|_)*$')\n",
    "problemchars = re.compile(r'[=\\+/&<>;\\'\"\\?%#$@\\,\\. \\t\\r\\n]')\n",
    "street_type_re = re.compile(r'\\b\\S+\\.?$', re.IGNORECASE)"
   ]
  },
  {
   "cell_type": "code",
   "execution_count": 17,
   "metadata": {
    "collapsed": true
   },
   "outputs": [],
   "source": [
    "def count_tags(filename):\n",
    "    \"\"\"\n",
    "    This function uses iterative parsing to process the map file and find out \n",
    "    not only what tags are there, but also how many, to get the\n",
    "    feeling on how much of which data you can expect to have in the map.\n",
    "    It should return a dictionary with the tag name as the key and number of \n",
    "    times this tag can be encountered in the map as value.\n",
    "    \"\"\"\n",
    "    tags = {}\n",
    "    for event, element in ET.iterparse(filename):\n",
    "        if element.tag not in tags:\n",
    "            tags[element.tag] = 1\n",
    "        else:\n",
    "            tags[element.tag] += 1\n",
    "        \n",
    "    return tags"
   ]
  },
  {
   "cell_type": "code",
   "execution_count": 18,
   "metadata": {},
   "outputs": [
    {
     "data": {
      "text/plain": [
       "{'bounds': 1,\n",
       " 'member': 13107,\n",
       " 'nd': 1014262,\n",
       " 'node': 819193,\n",
       " 'osm': 1,\n",
       " 'relation': 1821,\n",
       " 'tag': 281433,\n",
       " 'way': 157686}"
      ]
     },
     "execution_count": 18,
     "metadata": {},
     "output_type": "execute_result"
    }
   ],
   "source": [
    "count_tags(\"vancouver_canada.osm\")"
   ]
  },
  {
   "cell_type": "code",
   "execution_count": null,
   "metadata": {
    "collapsed": true
   },
   "outputs": [],
   "source": [
    "def key_type(element, keys):\n",
    "    \"\"\"\n",
    "    This is a helper function for comparing tags to potential problems and increments the count of the problem\n",
    "    in the dictionary that keeps track of 4 of these problems.\n",
    "    four tag categories in a dictionary:\n",
    "    \"lower\", for tags that contain only lowercase letters and are valid,\n",
    "    \"lower_colon\", for otherwise valid tags with a colon in their names,\n",
    "    \"problemchars\", for tags with problematic characters, and\n",
    "    \"other\", for other tags that do not fall into the other three categories.\n",
    "    \"\"\"\n",
    "    if element.tag == \"tag\":\n",
    "        for tag in element.iter(\"tag\"):\n",
    "            street = tag.attrib[\"k\"]\n",
    "            if lower.search(street):\n",
    "                keys[\"lower\"] += 1\n",
    "            elif lower_colon.search(street):\n",
    "                keys[\"lower_colon\"] += 1\n",
    "            elif problemchars.search(street):\n",
    "                keys[\"problemchars\"] += 1\n",
    "            else:\n",
    "                keys[\"other\"] += 1\n",
    "    return keys"
   ]
  },
  {
   "cell_type": "code",
   "execution_count": null,
   "metadata": {
    "collapsed": true
   },
   "outputs": [],
   "source": [
    "def process_keys(filename):\n",
    "    keys = {\"lower\": 0, \"lower_colon\": 0, \"problemchars\": 0, \"other\": 0}\n",
    "\n",
    "    for _, element in ET.iterparse(filename):\n",
    "        keys = key_type(element, keys)\n",
    "\n",
    "    return keys"
   ]
  },
  {
   "cell_type": "code",
   "execution_count": null,
   "metadata": {
    "collapsed": true
   },
   "outputs": [],
   "source": [
    "process_keys(\"vancouver_canada.osm\")"
   ]
  },
  {
   "cell_type": "code",
   "execution_count": 107,
   "metadata": {
    "collapsed": true
   },
   "outputs": [],
   "source": [
    "def get_users(element):\n",
    "    users = set()\n",
    "    index = \"uid\"\n",
    "    user_tags = [\"way\", \"relation\"]\n",
    "\n",
    "    tag = element.tag\n",
    "    if tag == \"node\":\n",
    "        try:\n",
    "            users.add(element.attrib[index])\n",
    "        except:\n",
    "            users = users\n",
    "    elif tag in user_tags:\n",
    "        for member in element.iter(tag):\n",
    "            try:\n",
    "                if member.attrib[\"uid\"]:\n",
    "                    users.add(member.attrib[index])\n",
    "            except:\n",
    "                users = users\n",
    "    return users"
   ]
  },
  {
   "cell_type": "code",
   "execution_count": 110,
   "metadata": {
    "collapsed": true
   },
   "outputs": [],
   "source": [
    "def process_users(filename):\n",
    "    users = set()\n",
    "    for _, element in ET.iterparse(filename):\n",
    "        for user in get_users(element):\n",
    "            users.add(user)\n",
    "    return users"
   ]
  },
  {
   "cell_type": "code",
   "execution_count": 111,
   "metadata": {},
   "outputs": [
    {
     "data": {
      "text/plain": [
       "894"
      ]
     },
     "execution_count": 111,
     "metadata": {},
     "output_type": "execute_result"
    }
   ],
   "source": [
    "len(process_users(\"vancouver_canada.osm\"))"
   ]
  },
  {
   "cell_type": "code",
   "execution_count": 4,
   "metadata": {
    "collapsed": true
   },
   "outputs": [],
   "source": [
    "expected = [\"Street\", \"Alley\", \"Avenue\", \"Boulevard\", \"Crescent\", \"Drive\", \"Court\", \"Place\", \"Square\", \"Lane\", \"Road\", \n",
    "            \"Trail\", \"Parkway\", \"Commons\", \"Connector\", \"Way\", \"Highway\"]\n",
    "\n",
    "\n",
    "mapping = { \"St\": \"Street\", \"St.\": \"Street\", \"street\": \"Street\", \"Steet\": \"Street\",\n",
    "            \"Ave\": \"Avenue\", \n",
    "            \"Blvd\": \"Boulevard\", \"BLVD\": \"Boulevard\",\n",
    "            \"Rd.\": \"Road\"\n",
    "          }"
   ]
  },
  {
   "cell_type": "code",
   "execution_count": 18,
   "metadata": {
    "collapsed": true
   },
   "outputs": [],
   "source": [
    "def audit_street_type(street_types, street_name):\n",
    "    m = street_type_re.search(street_name)\n",
    "    if m:\n",
    "        street_type = m.group()\n",
    "        if street_type not in expected:\n",
    "            street_types[street_type].add(street_name)"
   ]
  },
  {
   "cell_type": "code",
   "execution_count": 19,
   "metadata": {
    "collapsed": true
   },
   "outputs": [],
   "source": [
    "def is_street_name(elem):\n",
    "    return (elem.attrib['k'] == \"addr:street\")"
   ]
  },
  {
   "cell_type": "code",
   "execution_count": 20,
   "metadata": {
    "collapsed": true
   },
   "outputs": [],
   "source": [
    "def update_name(name, mapping):\n",
    "    m = street_type_re.search(name)\n",
    "    if m:\n",
    "        street_type = m.group()\n",
    "        if street_type in mapping:\n",
    "            name = name[:-len(street_type)] + mapping[street_type]\n",
    "    return name"
   ]
  },
  {
   "cell_type": "code",
   "execution_count": 23,
   "metadata": {
    "collapsed": true
   },
   "outputs": [],
   "source": [
    "def audit(osmfile):\n",
    "    osm_file = open(osmfile, \"r\")\n",
    "    street_types = defaultdict(set)\n",
    "    for event, elem in ET.iterparse(osm_file, events=(\"start\",)):\n",
    "\n",
    "        if elem.tag == \"node\" or elem.tag == \"way\":\n",
    "            for tag in elem.iter(\"tag\"):\n",
    "                if is_street_name(tag):\n",
    "                    audit_street_type(street_types, update_name(tag.attrib['v'], mapping))\n",
    "    osm_file.close()\n",
    "    return street_types"
   ]
  },
  {
   "cell_type": "code",
   "execution_count": 24,
   "metadata": {},
   "outputs": [
    {
     "data": {
      "text/plain": [
       "defaultdict(set,\n",
       "            {'108': {'8th Ave W #108'},\n",
       "             '203': {'Fir Street #203', 'Sidney St #203'},\n",
       "             '216': {'Granville St #216'},\n",
       "             '2nd': {'East 2nd'},\n",
       "             '328': {'Granville St #328'},\n",
       "             '701': {'Comox St #701'},\n",
       "             'Broadway': {'Broadway',\n",
       "              'E. Broadway',\n",
       "              'East Broadway',\n",
       "              'W Broadway',\n",
       "              'West Broadway',\n",
       "              'west Broadway'},\n",
       "             'Denmanstreet': {'Denmanstreet'},\n",
       "             'E': {'37th Ave E'},\n",
       "             'East': {'3rd Street East', 'Grand Boulevard East'},\n",
       "             'Esplanade': {'415 West Esplanade', 'West Esplanade'},\n",
       "             'G101': {'West Broadway #G101'},\n",
       "             'Greenway': {'Carrall Street Greenway'},\n",
       "             'Jarvis': {'Jarvis'},\n",
       "             'Jervis': {'Jervis'},\n",
       "             'Kingsway': {'Kingsway'},\n",
       "             'Mall': {'East Mall',\n",
       "              'Health Sciences Mall',\n",
       "              'Lower Mall',\n",
       "              'Main Mall',\n",
       "              'Wesbrook Mall',\n",
       "              'West Mall'},\n",
       "             'Mews': {'Aquarius Mews',\n",
       "              'Eldorado Mews',\n",
       "              \"Gaoler's Mews\",\n",
       "              'Kinghorne Mews',\n",
       "              'Maritime Mews',\n",
       "              'Menchions Mews',\n",
       "              'Wallace Mews'},\n",
       "             'Nanaimo': {'Nanaimo'},\n",
       "             'Pender': {'West Pender'},\n",
       "             'Seawall': {'Stanley Park Seawall'},\n",
       "             'South': {'East Kent Avenue South'},\n",
       "             'Terminal': {'Station Terminal'},\n",
       "             'Vancouver': {'W. Hastings St. Vancouver'},\n",
       "             'Venue': {'Greer Venue'},\n",
       "             'W': {'Broadway W'},\n",
       "             'Walk': {'Foreshore Walk'},\n",
       "             'West': {'Grand Boulevard West'}})"
      ]
     },
     "execution_count": 24,
     "metadata": {},
     "output_type": "execute_result"
    }
   ],
   "source": [
    "audit(\"vancouver_canada.osm\")"
   ]
  },
  {
   "cell_type": "code",
   "execution_count": null,
   "metadata": {
    "collapsed": true
   },
   "outputs": [],
   "source": []
  }
 ],
 "metadata": {
  "kernelspec": {
   "display_name": "Python 3",
   "language": "python",
   "name": "python3"
  },
  "language_info": {
   "codemirror_mode": {
    "name": "ipython",
    "version": 3
   },
   "file_extension": ".py",
   "mimetype": "text/x-python",
   "name": "python",
   "nbconvert_exporter": "python",
   "pygments_lexer": "ipython3",
   "version": "3.6.1"
  }
 },
 "nbformat": 4,
 "nbformat_minor": 2
}

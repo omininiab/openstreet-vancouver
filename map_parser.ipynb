{
 "cells": [
  {
   "cell_type": "code",
   "execution_count": 41,
   "metadata": {
    "collapsed": true
   },
   "outputs": [],
   "source": [
    "import xml.etree.cElementTree as ET\n",
    "from collections import defaultdict\n",
    "import pprint as pp\n",
    "import re"
   ]
  },
  {
   "cell_type": "code",
   "execution_count": 42,
   "metadata": {
    "collapsed": true
   },
   "outputs": [],
   "source": [
    "lower = re.compile(r'^([a-z]|_)*$')\n",
    "lower_colon = re.compile(r'^([a-z]|_)*:([a-z]|_)*$')\n",
    "problemchars = re.compile(r'[=\\+/&<>;\\'\"\\?%#$@\\,\\. \\t\\r\\n]')\n",
    "street_type_re = re.compile(r'\\b\\S+\\.?$', re.IGNORECASE)"
   ]
  },
  {
   "cell_type": "code",
   "execution_count": 43,
   "metadata": {
    "collapsed": true
   },
   "outputs": [],
   "source": [
    "def count_tags(filename):\n",
    "    \"\"\"\n",
    "    This function uses iterative parsing to process the map file and find out \n",
    "    not only what tags are there, but also how many, to get the\n",
    "    feeling on how much of which data you can expect to have in the map.\n",
    "    It should return a dictionary with the tag name as the key and number of \n",
    "    times this tag can be encountered in the map as value.\n",
    "    \"\"\"\n",
    "    tags = {}\n",
    "    for event, element in ET.iterparse(filename):\n",
    "        if element.tag not in tags:\n",
    "            tags[element.tag] = 1\n",
    "        else:\n",
    "            tags[element.tag] += 1\n",
    "        \n",
    "    return tags"
   ]
  },
  {
   "cell_type": "code",
   "execution_count": 44,
   "metadata": {},
   "outputs": [],
   "source": [
    "#count_tags(\"vancouver_canada.osm\")"
   ]
  },
  {
   "cell_type": "code",
   "execution_count": 45,
   "metadata": {
    "collapsed": true
   },
   "outputs": [],
   "source": [
    "def key_type(element, keys):\n",
    "    \"\"\"\n",
    "    This is a helper function for comparing tags to potential problems and increments \n",
    "    the count of the problem in the dictionary that keeps track of 4 of these problems.\n",
    "    four tag categories in a dictionary:\n",
    "    \"lower\", for tags that contain only lowercase letters and are valid,\n",
    "    \"lower_colon\", for otherwise valid tags with a colon in their names,\n",
    "    \"problemchars\", for tags with problematic characters, and\n",
    "    \"other\", for other tags that do not fall into the other three categories.\n",
    "    \"\"\"\n",
    "    if element.tag == \"tag\":\n",
    "        for tag in element.iter(\"tag\"):\n",
    "            street = tag.attrib[\"k\"]\n",
    "            if lower.search(street):\n",
    "                keys[\"lower\"] += 1\n",
    "            elif lower_colon.search(street):\n",
    "                keys[\"lower_colon\"] += 1\n",
    "            elif problemchars.search(street):\n",
    "                keys[\"problemchars\"] += 1\n",
    "            else:\n",
    "                keys[\"other\"] += 1\n",
    "    return keys"
   ]
  },
  {
   "cell_type": "code",
   "execution_count": 46,
   "metadata": {
    "collapsed": true
   },
   "outputs": [],
   "source": [
    "def process_keys(filename):\n",
    "    keys = {\"lower\": 0, \"lower_colon\": 0, \"problemchars\": 0, \"other\": 0}\n",
    "\n",
    "    for _, element in ET.iterparse(filename):\n",
    "        keys = key_type(element, keys)\n",
    "\n",
    "    return keys"
   ]
  },
  {
   "cell_type": "code",
   "execution_count": 47,
   "metadata": {
    "collapsed": true
   },
   "outputs": [],
   "source": [
    "#process_keys(\"vancouver_canada.osm\")"
   ]
  },
  {
   "cell_type": "code",
   "execution_count": 48,
   "metadata": {
    "collapsed": true
   },
   "outputs": [],
   "source": [
    "def get_users(element):\n",
    "    users = set()\n",
    "    index = \"uid\"\n",
    "    user_tags = [\"way\", \"relation\"]\n",
    "\n",
    "    tag = element.tag\n",
    "    if tag == \"node\":\n",
    "        try:\n",
    "            users.add(element.attrib[index])\n",
    "        except:\n",
    "            users = users\n",
    "    elif tag in user_tags:\n",
    "        for member in element.iter(tag):\n",
    "            try:\n",
    "                if member.attrib[\"uid\"]:\n",
    "                    users.add(member.attrib[index])\n",
    "            except:\n",
    "                users = users\n",
    "    return users"
   ]
  },
  {
   "cell_type": "code",
   "execution_count": 49,
   "metadata": {
    "collapsed": true
   },
   "outputs": [],
   "source": [
    "def process_users(filename):\n",
    "    users = set()\n",
    "    for _, element in ET.iterparse(filename):\n",
    "        for user in get_users(element):\n",
    "            users.add(user)\n",
    "    return users"
   ]
  },
  {
   "cell_type": "code",
   "execution_count": 50,
   "metadata": {},
   "outputs": [],
   "source": [
    "#process_users(\"vancouver_canada.osm\")"
   ]
  },
  {
   "cell_type": "code",
   "execution_count": 113,
   "metadata": {},
   "outputs": [],
   "source": [
    "expected = [\"Street\", \"Alley\", \"Avenue\", \"Boulevard\", \"Crescent\", \"Drive\", \n",
    "            \"Court\", \"Place\", \"Square\", \"Lane\", \"Road\", \"Mall\", \"Broadway\",\n",
    "            \"Trail\", \"Parkway\", \"Commons\", \"Connector\", \"Walk\", \"Way\", \"Highway\", \n",
    "            \"Mews\", \"Kingsway\", \"Greenway\", \"Seawall\", \"South\", \"Terminal\"]\n",
    "\n",
    "\n",
    "mapping = {\"St\": \"Street\", \"St.\": \"Street\", \"street\": \"Street\", \"Steet\": \"Street\", \n",
    "           \"Ave\": \"Avenue\", \"Venue\": \"Avenue\", \n",
    "           \"Blvd\": \"Boulevard\", \"BLVD\": \"Boulevard\", \n",
    "           \"Esplanade\": \"Esplanade Avenue\", \n",
    "           \"Rd.\": \"Road\", \n",
    "           \"Jervis\": \"Jervis Street\", \"Jarvis\": \"Jervis Street\",\n",
    "           \"Pender\": \"Pender Street\",\n",
    "           \"Nanaimo\": \"Nanaimo Street\",\n",
    "           \"2nd\": \"2nd Avenue\",\n",
    "           \"Denmanstreet\": \"Denman Street\"}"
   ]
  },
  {
   "cell_type": "code",
   "execution_count": 108,
   "metadata": {
    "collapsed": true
   },
   "outputs": [],
   "source": [
    "def audit_street_type(street_types, street_name):\n",
    "    m = street_type_re.search(street_name)\n",
    "    if m:\n",
    "        street_type = m.group()\n",
    "        if street_type not in expected:\n",
    "            street_types[street_type].add(street_name)"
   ]
  },
  {
   "cell_type": "code",
   "execution_count": 109,
   "metadata": {
    "collapsed": true
   },
   "outputs": [],
   "source": [
    "def is_street_name(elem):\n",
    "    return (elem.attrib['k'] == \"addr:street\")"
   ]
  },
  {
   "cell_type": "code",
   "execution_count": 157,
   "metadata": {
    "collapsed": true
   },
   "outputs": [],
   "source": [
    "def update_name(name, mapping):\n",
    "    unique = [\"108\", \"203\", \"216\", \"328\", \"701\", \"G101\"]\n",
    "    direction = [\"East\", \"West\"]\n",
    "\n",
    "    m = street_type_re.search(name)\n",
    "    if m:\n",
    "        street_type = m.group()\n",
    "        if street_type in mapping:\n",
    "            name = name[:-len(street_type)] + mapping[street_type]\n",
    "        elif street_type == 'Vancouver':\n",
    "            name = name[:-len(street_type)].strip()\n",
    "            update_name(name, mapping)\n",
    "        elif street_type in unique:\n",
    "            parts = name.split(\"#\")\n",
    "            name = parts[1] + \" \" +parts[0].strip()\n",
    "            update_name(name, mapping)\n",
    "        elif street_type in direction:\n",
    "            parts = name.split(\" \")\n",
    "            name = parts[2] + \" \" +parts[0] + \" \" +parts[1]\n",
    "            update_name(name, mapping)\n",
    "        elif street_type == \"E\":\n",
    "            parts = name.split(\" \")\n",
    "            name = \"East \"+ parts[0]+ \" Avenue\"\n",
    "        elif street_type == \"W\":\n",
    "            parts = name.split(\" \")\n",
    "            if len(parts) > 2:\n",
    "                name = parts[0]+ \" West \"+ parts[1]+ \" Avenue\"\n",
    "            elif len(parts) < 3:\n",
    "                name = \"West \"+ parts[0]\n",
    "\n",
    "    return name"
   ]
  },
  {
   "cell_type": "code",
   "execution_count": 158,
   "metadata": {
    "collapsed": true
   },
   "outputs": [],
   "source": [
    "def audit(osmfile):\n",
    "    osm_file = open(osmfile, \"r\")\n",
    "    street_types = defaultdict(set)\n",
    "    for event, elem in ET.iterparse(osm_file, events=(\"start\",)):\n",
    "\n",
    "        if elem.tag == \"node\" or elem.tag == \"way\":\n",
    "            for tag in elem.iter(\"tag\"):\n",
    "                if is_street_name(tag):\n",
    "                    audit_street_type(street_types, update_name(tag.attrib['v'], mapping))\n",
    "    osm_file.close()\n",
    "    return street_types"
   ]
  },
  {
   "cell_type": "code",
   "execution_count": 159,
   "metadata": {},
   "outputs": [
    {
     "data": {
      "text/plain": [
       "defaultdict(set,\n",
       "            {'St': {'203 Sidney St',\n",
       "              '216 Granville St',\n",
       "              '328 Granville St',\n",
       "              '701 Comox St'},\n",
       "             'St.': {'W. Hastings St.'},\n",
       "             'W': {'108 8th Ave W'}})"
      ]
     },
     "execution_count": 159,
     "metadata": {},
     "output_type": "execute_result"
    }
   ],
   "source": [
    "audit(\"vancouver_canada.osm\")"
   ]
  },
  {
   "cell_type": "code",
   "execution_count": null,
   "metadata": {
    "collapsed": true
   },
   "outputs": [],
   "source": []
  }
 ],
 "metadata": {
  "kernelspec": {
   "display_name": "Python 3",
   "language": "python",
   "name": "python3"
  },
  "language_info": {
   "codemirror_mode": {
    "name": "ipython",
    "version": 3
   },
   "file_extension": ".py",
   "mimetype": "text/x-python",
   "name": "python",
   "nbconvert_exporter": "python",
   "pygments_lexer": "ipython3",
   "version": "3.6.1"
  }
 },
 "nbformat": 4,
 "nbformat_minor": 2
}
